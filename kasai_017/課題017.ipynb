{
  "nbformat": 4,
  "nbformat_minor": 0,
  "metadata": {
    "colab": {
      "provenance": []
    },
    "kernelspec": {
      "name": "python3",
      "display_name": "Python 3"
    },
    "language_info": {
      "name": "python"
    }
  },
  "cells": [
    {
      "cell_type": "code",
      "source": [
        "age_list = {\"taro\": 21, \"hanako\": 18, \"ken\": 20}\n",
        "\n",
        "class Human:\n",
        "    def __init__(self, name, age):\n",
        "        self.name = name\n",
        "        self.age = age\n",
        "\n",
        "    def check_adult(self):\n",
        "        if self.age >= 20:\n",
        "          print(self.name, \"は大人です\")\n",
        "        else:\n",
        "          print(self.name, \"は大人ではないです\")\n",
        "\n",
        "for name, age in age_list.items():\n",
        "  Human(name, age).check_adult()\n",
        "\n",
        "\n",
        "\n",
        "\n",
        "\n"
      ],
      "metadata": {
        "colab": {
          "base_uri": "https://localhost:8080/"
        },
        "id": "9uLptsSGPYUS",
        "outputId": "22cf7d4c-d8b3-4bc7-c5a3-8a8af2d4f708"
      },
      "execution_count": 40,
      "outputs": [
        {
          "output_type": "stream",
          "name": "stdout",
          "text": [
            "taro は大人です\n",
            "hanako は大人ではないです\n",
            "ken は大人です\n"
          ]
        }
      ]
    }
  ]
}