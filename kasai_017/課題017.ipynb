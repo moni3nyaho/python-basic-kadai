{
  "nbformat": 4,
  "nbformat_minor": 0,
  "metadata": {
    "colab": {
      "provenance": []
    },
    "kernelspec": {
      "name": "python3",
      "display_name": "Python 3"
    },
    "language_info": {
      "name": "python"
    }
  },
  "cells": [
    {
      "cell_type": "code",
      "source": [
        "class Human:\n",
        "    def __init__(self, name, age):\n",
        "        self.name = name\n",
        "        self.age = age\n",
        "\n",
        "taro = Human(\"taro\",21)\n",
        "hanako = Human(\"hanako\",18)\n",
        "ken = Human(\"ken\",20)\n",
        "\n",
        "Humans = [taro, hanako, ken]\n",
        "\n",
        "for check_adult in Humans:\n",
        "  if check_adult.age >= 20:\n",
        "    print(check_adult.name, \"は大人です\")\n",
        "  else:\n",
        "    print(check_adult.name, \"は子供です\")"
      ],
      "metadata": {
        "colab": {
          "base_uri": "https://localhost:8080/"
        },
        "id": "ohCWurhbMnsw",
        "outputId": "d18825f0-a05b-4c61-df7b-ae5fb94aaf8d"
      },
      "execution_count": 32,
      "outputs": [
        {
          "output_type": "stream",
          "name": "stdout",
          "text": [
            "taro は大人です\n",
            "hanako は子供です\n",
            "ken は大人です\n"
          ]
        }
      ]
    }
  ]
}