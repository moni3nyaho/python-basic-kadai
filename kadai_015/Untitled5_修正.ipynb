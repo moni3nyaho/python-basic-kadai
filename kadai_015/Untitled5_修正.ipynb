{
  "nbformat": 4,
  "nbformat_minor": 0,
  "metadata": {
    "colab": {
      "provenance": []
    },
    "kernelspec": {
      "name": "python3",
      "display_name": "Python 3"
    },
    "language_info": {
      "name": "python"
    }
  },
  "cells": [
    {
      "cell_type": "code",
      "source": [
        "class Human:\n",
        "    def __init__ (self, name, age):\n",
        "        self.name = name\n",
        "        self.age = age\n",
        "\n",
        "    def printinfo(self):\n",
        "        print(f\"{self.name}\")\n",
        "        print(f\"{self.age}\")\n",
        "human = Human(\"taro\", 20)\n",
        "human.printinfo()\n"
      ],
      "metadata": {
        "colab": {
          "base_uri": "https://localhost:8080/"
        },
        "id": "UrbmiJVVX3aB",
        "outputId": "9ed127b3-9bd0-4a25-acf9-d65bca1f2559"
      },
      "execution_count": 95,
      "outputs": [
        {
          "output_type": "stream",
          "name": "stdout",
          "text": [
            "taro\n",
            "20\n"
          ]
        }
      ]
    }
  ]
}