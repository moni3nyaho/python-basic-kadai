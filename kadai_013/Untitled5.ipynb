{
  "nbformat": 4,
  "nbformat_minor": 0,
  "metadata": {
    "colab": {
      "provenance": []
    },
    "kernelspec": {
      "name": "python3",
      "display_name": "Python 3"
    },
    "language_info": {
      "name": "python"
    }
  },
  "cells": [
    {
      "cell_type": "code",
      "source": [
        "def add_price_tax(price, tax):\n",
        "  total = price + tax /100\n",
        "  print(total)\n",
        "\n",
        "add_price_tax(110, 10)"
      ],
      "metadata": {
        "colab": {
          "base_uri": "https://localhost:8080/"
        },
        "id": "d3oo1PLPhNTE",
        "outputId": "8fe6b392-4506-4b04-c9c0-a055672c12c0"
      },
      "execution_count": 25,
      "outputs": [
        {
          "output_type": "stream",
          "name": "stdout",
          "text": [
            "110.1\n"
          ]
        }
      ]
    }
  ]
}